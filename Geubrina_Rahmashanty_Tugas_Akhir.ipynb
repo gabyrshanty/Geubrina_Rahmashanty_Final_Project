{
 "cells": [
  {
   "cell_type": "code",
   "execution_count": 2,
   "id": "5324db9d",
   "metadata": {},
   "outputs": [],
   "source": [
    "import smtplib #module yang digunakan sebagai koneksi untuk mengirimkan email\n",
    "from email.message import EmailMessage #email module untuk mengirimkan email\n",
    "\n",
    "#data pengirim\n",
    "email_pengirim = 'pengirimtugasakhir@gmail.com' #input dari email yang digunakan sebagai pengirim\n",
    "email_password = 'Pengirimtugasakhir_batch8' #input password email pengirim\n",
    "\n",
    "#data penerima dari file txt\n",
    "my_file = open(\"receiver_list.txt\",\"r\") #membuka data txt untuk daftar penerima email\n",
    "email_penerima = my_file.read().splitlines() #merubah data txt menjadi list\n",
    "#sumber https://stackoverflow.com/a/15233379\n",
    "\n",
    "#isi pesan\n",
    "msg = EmailMessage()\n",
    "msg['Subject'] = 'Tugas Akhir Basic Python'\n",
    "msg['From'] = email_pengirim\n",
    "msg['To'] = email_penerima\n",
    "msg.set_content('Halo, aku Gebi cuma mau tes tugas akhir.\\nAkhirnya bisa mengirim email melalui python.\\nBagaimana hasilnya? Lumayan kan')\n",
    "\n",
    "with smtplib.SMTP_SSL('smtp.gmail.com', 465) as smtp: #menggunakan SMTP_SSL dengan host gmail dan port 465\n",
    "    smtp.login(email_pengirim, email_password) #login dengan email dan password yang sudah diberikan\n",
    "    smtp.send_message(msg) #mengirimkan email\n",
    "#sumber: https://towardsdatascience.com/how-to-send-beautiful-emails-with-python-the-essential-guide-a01d00c80cd0"
   ]
  },
  {
   "cell_type": "code",
   "execution_count": null,
   "id": "147d347e",
   "metadata": {},
   "outputs": [],
   "source": []
  }
 ],
 "metadata": {
  "kernelspec": {
   "display_name": "Python 3",
   "language": "python",
   "name": "python3"
  },
  "language_info": {
   "codemirror_mode": {
    "name": "ipython",
    "version": 3
   },
   "file_extension": ".py",
   "mimetype": "text/x-python",
   "name": "python",
   "nbconvert_exporter": "python",
   "pygments_lexer": "ipython3",
   "version": "3.8.8"
  }
 },
 "nbformat": 4,
 "nbformat_minor": 5
}
