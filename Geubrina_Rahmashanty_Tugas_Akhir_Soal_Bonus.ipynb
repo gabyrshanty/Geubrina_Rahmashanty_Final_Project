{
 "cells": [
  {
   "cell_type": "code",
   "execution_count": 2,
   "id": "acc79562",
   "metadata": {},
   "outputs": [],
   "source": [
    "import smtplib\n",
    "from email.message import EmailMessage\n",
    "\n",
    "#data pengirim\n",
    "email_pengirim = 'pengirimtugasakhir@gmail.com'\n",
    "email_password = 'Pengirimtugasakhir_batch8'\n",
    "\n",
    "#data penerima dari file txt\n",
    "my_file = open(\"receiver_list.txt\",\"r\")\n",
    "email_penerima = my_file.read().splitlines()\n",
    "#sumber https://stackoverflow.com/a/15233379\n",
    "\n",
    "#isi pesan\n",
    "msg = EmailMessage()\n",
    "msg['Subject'] = 'Tugas Akhir Basic Python Soal Bonus with Attachment'\n",
    "msg['From'] = email_pengirim\n",
    "msg['To'] = email_penerima\n",
    "msg.set_content(\"Hai, ini ya file buat tugas terakhir kita.\\nSemoga lulus!\")\n",
    "\n",
    "#tambah attachment pdf\n",
    "with open('Tugas Akhir.pdf', 'rb') as pdf: #membuka attachment yang akan dikirimkan\n",
    "    msg.add_attachment(pdf.read(), maintype='application', subtype='octet-stream', filename=pdf.name) #menambahkan attachment\n",
    "    \n",
    "#maintype adalah aplication karena pdf, kalau gambar akan menjadi image\n",
    "#subtype octet-stream adalah default dari tipe konten MIME subtype\n",
    "#filename diambil dari nama data pdf di with open as pdf diatas.\n",
    "\n",
    "with smtplib.SMTP_SSL('smtp.gmail.com', 465) as smtp:\n",
    "    smtp.login(email_pengirim, email_password)\n",
    "    smtp.send_message(msg)\n",
    "#sumber: https://towardsdatascience.com/how-to-send-beautiful-emails-with-python-the-essential-guide-a01d00c80cd0"
   ]
  },
  {
   "cell_type": "code",
   "execution_count": null,
   "id": "22b869e5",
   "metadata": {},
   "outputs": [],
   "source": []
  }
 ],
 "metadata": {
  "kernelspec": {
   "display_name": "Python 3",
   "language": "python",
   "name": "python3"
  },
  "language_info": {
   "codemirror_mode": {
    "name": "ipython",
    "version": 3
   },
   "file_extension": ".py",
   "mimetype": "text/x-python",
   "name": "python",
   "nbconvert_exporter": "python",
   "pygments_lexer": "ipython3",
   "version": "3.8.8"
  }
 },
 "nbformat": 4,
 "nbformat_minor": 5
}
